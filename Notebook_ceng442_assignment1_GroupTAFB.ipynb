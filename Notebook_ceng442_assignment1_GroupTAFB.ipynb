{
 "cells": [
  {
   "cell_type": "markdown",
   "metadata": {},
   "source": [
    "# CENG442 Assignment 1 - Azerbaijani Text Preprocessing & Word Embeddings\n",
    "\n",
    "**Group Members:**\n",
    "* Talha Ubeydullah Gamga | 20050111078\n",
    "* Aziz Önder | 22050141021\n",
    "* Muhammed Fatih Asan | 23050151026\n",
    "* Buğra Bildiren | 20050111022"
   ]
  },
  {
   "cell_type": "markdown",
   "metadata": {},
   "source": [
    "## Step 1: Setup and Imports\n",
    "\n",
    "In this step, we import all necessary libraries for data processing and text cleaning, including standard libraries like `pandas`, `re` (regex), and `ftfy` (for text normalization).\n",
    "\n",
    "We also import the custom utility functions (e.g., domain detection, emoji/negation handling) from the `ozel_temizlik.py` script.\n",
    "\n",
    "Finally, we define and create the `OUTPUT_DIR` (`clean_data/`) where our processed Excel files will be saved."
   ]
  },
  {
   "cell_type": "code",
   "execution_count": 2,
   "metadata": {},
   "outputs": [
    {
     "name": "stdout",
     "output_type": "stream",
     "text": [
      "Libraries imported successfully.\n",
      "Utility functions from 'ozel_temizlik.py' imported.\n",
      "Output directory 'clean_data' is ready.\n"
     ]
    }
   ],
   "source": [
    "import pandas as pd\n",
    "import re\n",
    "import os\n",
    "import unicodedata\n",
    "import ftfy\n",
    "\n",
    "# --- Import Custom Utility Script ---\n",
    "# This script contains helper functions for domain detection,\n",
    "# negation, emoji mapping, and other specific cleaning tasks.\n",
    "import ozel_temizlik\n",
    "\n",
    "# --- Setup Output Directory ---\n",
    "OUTPUT_DIR = \"clean_data\"\n",
    "os.makedirs(OUTPUT_DIR, exist_ok=True)\n",
    "\n",
    "print(\"Libraries imported successfully.\")\n",
    "print(f\"Utility functions from 'ozel_temizlik.py' imported.\")\n",
    "print(f\"Output directory '{OUTPUT_DIR}' is ready.\")"
   ]
  },
  {
   "cell_type": "code",
   "execution_count": null,
   "metadata": {},
   "outputs": [],
   "source": []
  }
 ],
 "metadata": {
  "colab": {
   "authorship_tag": "ABX9TyOP5ho6E9SVvdzyJbpekIxs",
   "include_colab_link": true,
   "provenance": []
  },
  "kernelspec": {
   "display_name": "venv",
   "language": "python",
   "name": "venv"
  },
  "language_info": {
   "codemirror_mode": {
    "name": "ipython",
    "version": 3
   },
   "file_extension": ".py",
   "mimetype": "text/x-python",
   "name": "python",
   "nbconvert_exporter": "python",
   "pygments_lexer": "ipython3",
   "version": "3.11.5"
  }
 },
 "nbformat": 4,
 "nbformat_minor": 4
}
