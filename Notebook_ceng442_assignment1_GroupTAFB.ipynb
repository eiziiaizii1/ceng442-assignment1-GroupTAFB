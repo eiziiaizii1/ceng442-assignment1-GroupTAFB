{
 "cells": [
  {
   "cell_type": "markdown",
   "metadata": {},
   "source": [
    "# CENG442 Assignment 1 - Azerbaijani Text Preprocessing & Word Embeddings\n",
    "\n",
    "**Group Members:**\n",
    "* Talha Ubeydullah Gamga | 20050111078\n",
    "* Aziz Önder | 22050141021\n",
    "* Muhammed Fatih Asan | 23050151026\n",
    "* Buğra Bildiren | 20050111022"
   ]
  },
  {
   "cell_type": "code",
   "execution_count": null,
   "metadata": {},
   "outputs": [],
   "source": []
  }
 ],
 "metadata": {
  "colab": {
   "authorship_tag": "ABX9TyOP5ho6E9SVvdzyJbpekIxs",
   "include_colab_link": true,
   "provenance": []
  },
  "kernelspec": {
   "display_name": "Python 3 (ipykernel)",
   "language": "python",
   "name": "python3"
  },
  "language_info": {
   "codemirror_mode": {
    "name": "ipython",
    "version": 3
   },
   "file_extension": ".py",
   "mimetype": "text/x-python",
   "name": "python",
   "nbconvert_exporter": "python",
   "pygments_lexer": "ipython3",
   "version": "3.11.5"
  }
 },
 "nbformat": 4,
 "nbformat_minor": 4
}
